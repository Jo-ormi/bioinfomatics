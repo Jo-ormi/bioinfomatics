{
  "nbformat": 4,
  "nbformat_minor": 0,
  "metadata": {
    "colab": {
      "name": "miRLY(main)",
      "provenance": [],
      "collapsed_sections": []
    },
    "kernelspec": {
      "name": "python3",
      "display_name": "Python 3"
    },
    "language_info": {
      "name": "python"
    }
  },
  "cells": [
    {
      "cell_type": "code",
      "metadata": {
        "colab": {
          "base_uri": "https://localhost:8080/"
        },
        "id": "SO_RCu3OJNhe",
        "outputId": "e87910cd-92d8-4748-ff76-0ddc4a07c039"
      },
      "source": [
        "import numpy as np\n",
        "import pandas as pd\n",
        "import matplotlib.pyplot as plt\n",
        "import re\n",
        "from collections import OrderedDict\n",
        "from google.colab import drive\n",
        "drive.mount('/content/drive')"
      ],
      "execution_count": null,
      "outputs": [
        {
          "output_type": "stream",
          "name": "stdout",
          "text": [
            "Mounted at /content/drive\n"
          ]
        }
      ]
    },
    {
      "cell_type": "code",
      "metadata": {
        "colab": {
          "base_uri": "https://localhost:8080/"
        },
        "id": "5UUWd668Jo0p",
        "outputId": "ffa33b0b-9979-45c7-8de4-e7a7464fe88f"
      },
      "source": [
        "TargetScanHuman = '/content/drive/MyDrive/miRLY/TargetScanHuman8.0.txt'\n",
        "TarBase = '/content/drive/MyDrive/miRLY/TarBase v7.0.csv'\n",
        "miRecords = '/content/drive/MyDrive/miRLY/miRecords_version4.xls'\n",
        "miRDB = '/content/drive/MyDrive/miRLY/miRDB_v6.0_prediction_result.txt'\n",
        "miRtar = '/content/drive/MyDrive/miRLY/miRtar.txt'\n",
        "\n",
        "TSH = pd.read_table(TargetScanHuman)\n",
        "TB = pd.read_table(TarBase)\n",
        "MRC = pd.read_excel(miRecords)\n",
        "MRB = pd.read_table(miRDB, error_bad_lines = False, engine=\"python\")\n",
        "MIT = pd.read_table(miRtar, error_bad_lines = False, engine=\"python\")"
      ],
      "execution_count": null,
      "outputs": [
        {
          "output_type": "stream",
          "name": "stderr",
          "text": [
            "Skipping line 402: '\t' expected after '\"'\n"
          ]
        }
      ]
    },
    {
      "cell_type": "code",
      "metadata": {
        "id": "g1Dbz4hQ6CRQ"
      },
      "source": [
        "TSH.columns = ['Ensembl_Gene_ID', 'Gene_Name', 'Transcript_ID', 'Gene_Tax_ID', 'miRNA_ID',\n",
        "       'Site_Type', 'UTR_start', 'UTR_end', 'context++_score',\n",
        "       'context++_score_percentile', 'weighted_context++_score',\n",
        "       'weighted_context++ _score_percentile', 'Predicted_relative_KD']\n",
        "TSH = TSH.loc[:,['Ensembl_Gene_ID', 'Gene_Name', 'Gene_Tax_ID', 'miRNA_ID']]\n",
        "condition = (TSH.Gene_Tax_ID == 9606)\n",
        "TSH = TSH.loc[condition, ['Ensembl_Gene_ID', 'Gene_Name', 'miRNA_ID']]\n",
        "\n",
        "TSH['Gene_Name'] = TSH['Gene_Name'].str.upper()\n",
        "TSH['Gene_Name'] = TSH['Gene_Name'].str.strip()\n",
        "TSH['Gene_Name'] = TSH['Gene_Name'].str.replace('_',\"-\")\n",
        "TSH['Gene_Name'] = TSH['Gene_Name'].str.replace(' ',\"\")"
      ],
      "execution_count": null,
      "outputs": []
    },
    {
      "cell_type": "code",
      "metadata": {
        "id": "_JauhSA3C5M9"
      },
      "source": [
        "TB.columns = ['geneId', 'Gene_Name', 'miRNA_ID', 'species', 'cell_line', 'tissue', 'category', 'method', 'positive_negative', 'direct_indirect', 'up_down', 'state']\n",
        "TB = TB.loc[:,['Gene_Name', 'miRNA_ID', 'species']]\n",
        "condition = (TB.species == \"Homo sapiens\")\n",
        "TB = TB.loc[condition, ['Gene_Name', 'miRNA_ID']]\n",
        "TB = TB[~TB['Gene_Name'].str.contains('ENS', na=False, case=False)]\n",
        "TB = TB[~TB['Gene_Name'].str.contains('XM_', na=False, case=False)]\n",
        "TB = TB[~TB['Gene_Name'].str.contains('NM_', na=False, case=False)]\n",
        "\n",
        "TB['Gene_Name'] = TB['Gene_Name'].str.upper()\n",
        "TB['Gene_Name'] = TB['Gene_Name'].str.strip()\n",
        "TB['Gene_Name'] = TB['Gene_Name'].str.replace('_',\"-\")\n",
        "TB['Gene_Name'] = TB['Gene_Name'].str.replace(' ',\"\")"
      ],
      "execution_count": null,
      "outputs": []
    },
    {
      "cell_type": "code",
      "metadata": {
        "id": "FQzJimZUIizW"
      },
      "source": [
        "MRC.columns = ['Pubmed_ID', 'Target gene_species_scientific', 'Gene_Name',\n",
        "       'RefSeq_Acc_ID', 'Target site_number', 'miRNA_species',\n",
        "       'miRNA_ID', 'miRNA_regulation', 'Reporter_target gene/region',\n",
        "       'Reporter link element', 'Test_method_inter', 'Target gene mRNA_level',\n",
        "       'Original description', 'Mutation_target region',\n",
        "       'Post mutation_method', 'Original description_mutation_region',\n",
        "       'Target site_position', 'miRNA_regulation_site', 'Reporter_target site',\n",
        "       'Reporter link element.1', 'Test_method_inter_site',\n",
        "       'Original description_inter_site', 'Mutation_target site',\n",
        "       'Post mutation_method_site', 'Original description_mutation_site', 'Additional note']\n",
        "MRC = MRC.loc[:,['Pubmed_ID', 'Gene_Name', 'RefSeq_Acc_ID', 'miRNA_species', 'miRNA_ID']]\n",
        "condition = (MRC.miRNA_species == \"Homo sapiens\")\n",
        "MRC = MRC.loc[condition, ['Pubmed_ID', 'Gene_Name', 'RefSeq_Acc_ID', 'miRNA_ID']]\n",
        "\n",
        "MRC = MRC[~MRC['Gene_Name'].str.contains('2012.9.2', na=False, case=False)]\n",
        "MRC['Gene_Name'] = MRC['Gene_Name'].str.upper()\n",
        "MRC['Gene_Name'] = MRC['Gene_Name'].str.strip()\n",
        "MRC['Gene_Name'] = MRC['Gene_Name'].str.replace('_',\"-\")\n",
        "MRC['Gene_Name'] = MRC['Gene_Name'].str.replace(' ',\"\")"
      ],
      "execution_count": null,
      "outputs": []
    },
    {
      "cell_type": "code",
      "metadata": {
        "id": "IzZLIh8vIofZ"
      },
      "source": [
        "MRB.columns=['miRNA_ID','RefSeq_Acc_ID','Score']\n",
        "MRB.loc[6831594] = {'miRNA_ID' : 'cfa-miR-1185', 'RefSeq_Acc_ID' : 'XM_537211', 'Score' : '59.3438099752'}\n",
        "MRB = MRB.loc[:,['miRNA_ID', 'RefSeq_Acc_ID']]\n",
        "MRB = MRB[MRB['miRNA_ID'].str.contains('hsa')]"
      ],
      "execution_count": null,
      "outputs": []
    },
    {
      "cell_type": "code",
      "metadata": {
        "id": "9038fsPVtDrE"
      },
      "source": [
        "df1 = TSH.loc[:,['miRNA_ID', 'Gene_Name']]\n",
        "df2 = TB.loc[:,['miRNA_ID', 'Gene_Name']]\n",
        "df3 = MRC.loc[:,['miRNA_ID', 'Gene_Name']]\n",
        "df4 = MRB.loc[:,['miRNA_ID']]\n",
        "\n",
        "mirna_id = pd.concat([df1, df2, df3])\n",
        "mirna_id = mirna_id.drop_duplicates()\n",
        "mirna_id = mirna_id.dropna(axis = 0)\n",
        "mirna_id = mirna_id.drop_duplicates()\n",
        "mirna_id.to_csv('/content/drive/MyDrive/miRLY/mirna_id.csv')\n",
        "\n",
        "mirnaid = mirna_id.loc[:,['miRNA_ID']]\n",
        "mirnaid = mirnaid.drop_duplicates()\n",
        "mirnaid.to_csv('/content/drive/MyDrive/miRLY/miRNA_ID.csv')\n",
        "\n",
        "Target = mirna_id.loc[:,['Gene_Name']]\n",
        "Target = Target.drop_duplicates()\n",
        "Target.to_csv('/content/drive/MyDrive/miRLY/target.csv')"
      ],
      "execution_count": null,
      "outputs": []
    },
    {
      "cell_type": "code",
      "metadata": {
        "id": "rW5od2I6MRg2"
      },
      "source": [
        "GC = '/content/drive/MyDrive/miRLY/geneID_conversion_fin_unique_ensemb.tsv'\n",
        "gc = pd.read_table(GC)\n",
        "gc.columns = ['Unnamed: 0', 'Gene_Name', 'Gene_ID', 'Ensembl_ID', 'OMIM']\n",
        "gc = gc.loc[:,['Gene_Name', 'Gene_ID', 'Ensembl_ID', 'OMIM']]\n",
        "gc = gc[~gc['Gene_Name'].str.contains('ENS', na=False, case=False)]\n",
        "gc = gc[~gc['Gene_Name'].str.contains('XM-', na=False, case=False)]\n",
        "gc = gc[~gc['Gene_Name'].str.contains('NM-', na=False, case=False)]\n",
        "gc['Gene_Name'] = gc['Gene_Name'].str.replace(' ',\"\")\n",
        "\n",
        "DATA = pd.merge(mirna_id, gc, on = 'Gene_Name', how = \"outer\")\n",
        "data = DATA.loc[:,['miRNA_ID', 'Gene_Name']]\n",
        "data = data.dropna(axis = 0)\n",
        "\n",
        "DATAF = pd.merge(data, gc, on = 'Gene_Name', how = \"inner\")\n",
        "DATAF = DATAF.drop_duplicates()\n",
        "DATAF.to_csv('/content/drive/MyDrive/miRLY/DATA.csv')"
      ],
      "execution_count": null,
      "outputs": []
    },
    {
      "cell_type": "code",
      "metadata": {
        "colab": {
          "base_uri": "https://localhost:8080/"
        },
        "id": "sXpIHnuU0nO7",
        "outputId": "cd002659-efc3-40ba-ba26-850048561924"
      },
      "source": [
        "#print(DATAF)"
      ],
      "execution_count": null,
      "outputs": [
        {
          "output_type": "stream",
          "name": "stdout",
          "text": [
            "              miRNA_ID Gene_Name      Gene_ID       Ensembl_ID      OMIM\n",
            "0          hsa-miR-23c      A1BG          1.0  ENSG00000121410  138670.0\n",
            "1       hsa-miR-23b-3p      A1BG          1.0  ENSG00000121410  138670.0\n",
            "2       hsa-miR-23a-3p      A1BG          1.0  ENSG00000121410  138670.0\n",
            "3         hsa-miR-7-5p      A1CF      29974.0  ENSG00000148584  618199.0\n",
            "4       hsa-miR-30b-5p      A1CF      29974.0  ENSG00000148584  618199.0\n",
            "...                ...       ...          ...              ...       ...\n",
            "473644     hsa-miR-424      VEGF  100329011.0              NaN       NaN\n",
            "473645     hsa-miR-758     MYTL1          NaN              NaN       NaN\n",
            "473646      hsa-miR-21      NT-3    5650150.0              NaN       NaN\n",
            "473647     hsa-miR-622     K-RAS       3845.0  ENSG00000133703  190070.0\n",
            "473648    hsa-miR-125b    4E-BP1       1978.0  ENSG00000187840  602223.0\n",
            "\n",
            "[473649 rows x 5 columns]\n"
          ]
        }
      ]
    },
    {
      "cell_type": "code",
      "metadata": {
        "colab": {
          "base_uri": "https://localhost:8080/"
        },
        "id": "jHk0-Gh-BY4Q",
        "outputId": "bc51f787-3560-4084-f7df-300b70269b62"
      },
      "source": [
        "#gc.isnull().sum()"
      ],
      "execution_count": null,
      "outputs": [
        {
          "output_type": "execute_result",
          "data": {
            "text/plain": [
              "Gene_Name      515\n",
              "Gene_ID        930\n",
              "Ensembl_ID    1120\n",
              "OMIM          4767\n",
              "dtype: int64"
            ]
          },
          "metadata": {},
          "execution_count": 13
        }
      ]
    },
    {
      "cell_type": "code",
      "metadata": {
        "colab": {
          "base_uri": "https://localhost:8080/"
        },
        "id": "7zVmcLeNyfmr",
        "outputId": "2b147027-9ceb-4b5f-a2d9-1a93854e9e13"
      },
      "source": [
        "#DATAF.notnull().sum()"
      ],
      "execution_count": null,
      "outputs": [
        {
          "output_type": "execute_result",
          "data": {
            "text/plain": [
              "miRNA_ID      473649\n",
              "Gene_Name     473649\n",
              "Gene_ID       472564\n",
              "Ensembl_ID    466161\n",
              "OMIM          415156\n",
              "dtype: int64"
            ]
          },
          "metadata": {},
          "execution_count": 17
        }
      ]
    },
    {
      "cell_type": "code",
      "metadata": {
        "colab": {
          "base_uri": "https://localhost:8080/"
        },
        "id": "p1Eb2MVzDCEl",
        "outputId": "f9497a2e-671c-4f75-aefa-6855b3dc36c7"
      },
      "source": [
        "#DATAF['miRNA_ID'].value_counts()"
      ],
      "execution_count": null,
      "outputs": [
        {
          "output_type": "execute_result",
          "data": {
            "text/plain": [
              "hsa-miR-34a-5p     4532\n",
              "hsa-miR-16-5p      3684\n",
              "hsa-miR-26b-5p     3290\n",
              "hsa-miR-27a-3p     3214\n",
              "hsa-miR-335-5p     3165\n",
              "                   ... \n",
              "hsa-miR-3177-3p       1\n",
              "hsa-miR-520g          1\n",
              "[miR-143]             1\n",
              "hsa-miR-371a-3p       1\n",
              "hsa-mir-491           1\n",
              "Name: miRNA_ID, Length: 1316, dtype: int64"
            ]
          },
          "metadata": {},
          "execution_count": 21
        }
      ]
    }
  ]
}